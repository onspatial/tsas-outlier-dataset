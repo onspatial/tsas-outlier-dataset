{
  "cells": [
    {
      "cell_type": "code",
      "execution_count": 2,
      "metadata": {},
      "outputs": [],
      "source": [
        "import utils.files.json as json_utils\n",
        "import pandas"
      ]
    },
    {
      "cell_type": "code",
      "execution_count": 4,
      "metadata": {},
      "outputs": [],
      "source": [
        "table = json_utils.get_json('/home/amiri/Research/outlier-dev/generated_dataset/info.json')"
      ]
    },
    {
      "cell_type": "code",
      "execution_count": 1,
      "metadata": {},
      "outputs": [
        {
          "data": {
            "text/plain": [
              "{'folder': 'generated_dataset/centralized/atlanta_hunger_outliers',\n",
              " 'map_name': 'atlanta',\n",
              " 'number_of_agents': 1000,\n",
              " 'outlier_type': 'hunger',\n",
              " 'injection_method': 'central manipulation',\n",
              " 'total_outliers': 120,\n",
              " 'simulation_start_time': '2024-01-01T00:00:00',\n",
              " 'train_start_time': '2024-01-29T00:00:00',\n",
              " 'train_end_time': '2024-02-26T00:00:00',\n",
              " 'test_start_time': '2024-02-26T00:00:00',\n",
              " 'test_end_time': '2024-03-25T00:00:00',\n",
              " 'number_of_trajectories_train': 8064000,\n",
              " 'number_of_trajectories_test': 8064000,\n",
              " 'number_of_staypoints_train': 158964,\n",
              " 'number_of_staypoints_test': 152175,\n",
              " 'number_of_social_links_train': 562720,\n",
              " 'number_of_social_links_test': 745580,\n",
              " 'size_of_trajectories_train': 539907465,\n",
              " 'size_of_trajectories_test': 540887840,\n",
              " 'size_of_staypoints_train': 12203200,\n",
              " 'size_of_staypoints_test': 11727127,\n",
              " 'size_of_social_links_train': 16755758,\n",
              " 'size_of_social_links_test': 22267965}"
            ]
          },
          "execution_count": 1,
          "metadata": {},
          "output_type": "execute_result"
        }
      ],
      "source": [
        "{\n",
        "  \"folder\": \"generated_dataset/centralized/atlanta_hunger_outliers\",\n",
        "  \"map_name\": \"atlanta\",\n",
        "  \"number_of_agents\": 1000,\n",
        "  \"outlier_type\": \"hunger\",\n",
        "  \"injection_method\": \"central manipulation\",\n",
        "  \"total_outliers\": 120,\n",
        "  \"simulation_start_time\": \"2024-01-01T00:00:00\",\n",
        "  \"train_start_time\": \"2024-01-29T00:00:00\",\n",
        "  \"train_end_time\": \"2024-02-26T00:00:00\",\n",
        "  \"test_start_time\": \"2024-02-26T00:00:00\",\n",
        "  \"test_end_time\": \"2024-03-25T00:00:00\",\n",
        "  \"number_of_trajectories_train\": 8064000,\n",
        "  \"number_of_trajectories_test\": 8064000,\n",
        "  \"number_of_staypoints_train\": 158964,\n",
        "  \"number_of_staypoints_test\": 152175,\n",
        "  \"number_of_social_links_train\": 562720,\n",
        "  \"number_of_social_links_test\": 745580,\n",
        "  \"size_of_trajectories_train\": 539907465,\n",
        "  \"size_of_trajectories_test\": 540887840,\n",
        "  \"size_of_staypoints_train\": 12203200,\n",
        "  \"size_of_staypoints_test\": 11727127,\n",
        "  \"size_of_social_links_train\": 16755758,\n",
        "  \"size_of_social_links_test\": 22267965\n",
        "}\n"
      ]
    },
    {
      "cell_type": "code",
      "execution_count": 3,
      "metadata": {},
      "outputs": [],
      "source": [
        "def get_value(input_value, type_value):\n",
        "    if type_value == 'number':\n",
        "        if input_value > 1000 and input_value < 1000000:\n",
        "            input_value = f'{int(input_value/1000)}K'\n",
        "        elif input_value > 1000000 and input_value < 1000000000:\n",
        "            input_value = f'{int(input_value/1000000)}M'\n",
        "        elif input_value > 1000000000:\n",
        "            input_value = f'{int(input_value/1000000000)}B'\n",
        "        return input_value\n",
        "    elif type_value == 'size':\n",
        "        if input_value > 1024 and input_value < 1048576:\n",
        "            input_value = f'{int(input_value/1024)}KB'\n",
        "        elif input_value > 1048576 and input_value < 1073741824:\n",
        "            input_value = f'{int(input_value/1048576)}MB'\n",
        "        elif input_value > 1073741824:\n",
        "            input_value = f'{int(input_value/1073741824)}GB'\n",
        "        return input_value\n",
        "    elif type_value == 'float':\n",
        "        input_value = round(input_value, 2)\n",
        "        return input_value\n",
        "    else:\n",
        "        return input_value\n"
      ]
    },
    {
      "cell_type": "code",
      "execution_count": 6,
      "metadata": {},
      "outputs": [],
      "source": [
        "def get_table_df(table):\n",
        "    latex_table = []\n",
        "    for row in table:\n",
        "        latex_row = {}\n",
        "        latex_row['map_name'] = row['map_name']\n",
        "        latex_row['injection_method'] = row['injection_method']\n",
        "        if 'location-based infection' == row['injection_method']:\n",
        "            latex_row['pub_type'] = row['folder'].split('/')[-1].split('_')[1]\n",
        "        latex_row['outlier_type'] = row['outlier_type']\n",
        "        latex_row['total_outliers'] = row['total_outliers']\n",
        "        latex_row['number_of_trajectories_train'] = get_value(row['number_of_trajectories_train'], 'number')\n",
        "        latex_row['size_of_trajectories_train'] = get_value(row['size_of_trajectories_train'], 'size')\n",
        "        latex_row['number_of_trajectories_test'] = get_value(row['number_of_trajectories_test'], 'number')\n",
        "        latex_row['size_of_trajectories_test'] = get_value(row['size_of_trajectories_test'], 'size')\n",
        "        latex_row['number_of_staypoints_train'] = get_value(row['number_of_staypoints_train'], 'number')\n",
        "        latex_row['size_of_staypoints_train'] = get_value(row['size_of_staypoints_train'], 'size')\n",
        "        latex_row['number_of_staypoints_test'] = get_value(row['number_of_staypoints_test'], 'number')\n",
        "        latex_row['size_of_staypoints_test'] = get_value(row['size_of_staypoints_test'], 'size')\n",
        "        latex_row['number_of_social_links_train'] = get_value(row['number_of_social_links_train'], 'number')\n",
        "        latex_row['size_of_social_links_train'] = get_value(row['size_of_social_links_train'], 'size')\n",
        "        latex_row['number_of_social_links_test'] = get_value(row['number_of_social_links_test'], 'number')\n",
        "        latex_row['size_of_social_links_test'] = get_value(row['size_of_social_links_test'], 'size')\n",
        "        latex_row['agents_infected'] = get_value(row['agents_infected'],'') if 'agents_infected' in row else 0\n",
        "        latex_row['agents_susceptible'] = get_value(row['agents_susceptible'],'') if 'agents_susceptible' in row else 0\n",
        "        latex_row['agents_recovered'] = get_value(row['agents_recovered'],'') if 'agents_recovered' in row else 0\n",
        "        latex_row['agents_exposed'] = get_value(row['agents_exposed'],'') if 'agents_exposed' in row else 0\n",
        "        latex_row['infection_rate'] = get_value(row['infection_rate'],'float') if 'infection_rate' in row else 0\n",
        "        \n",
        "        latex_table.append(latex_row)\n",
        "\n",
        "    table_df = pandas.DataFrame(latex_table)\n",
        "    return table_df.copy()\n"
      ]
    },
    {
      "cell_type": "code",
      "execution_count": 5,
      "metadata": {},
      "outputs": [],
      "source": [
        "\n",
        "def print_latex_table(input_table_df, filter='', columns=None,text_caption=' ', transpose=False):\n",
        "    table_df = input_table_df.copy()\n",
        "    central_df = table_df[table_df['injection_method'] == filter]\n",
        "    central_df = central_df.drop(columns=['injection_method'])\n",
        "\n",
        "    print(f\"\\\\begin{{table*}}\")\n",
        "    print(f\"\\\\centering\")\n",
        "    print(f\"\\\\caption{{{filter} {text_caption}}}\")\n",
        "    print(f\"\\\\label{{tab:{filter.replace(' ', '_').lower()+ '_' +text_caption.replace(' ', '_').lower()}}}\")\n",
        "    if columns:\n",
        "        central_df = central_df[columns]\n",
        "    if transpose:\n",
        "        central_df = central_df.T\n",
        "        central_df.reset_index(inplace=True)\n",
        "        central_df.columns = central_df.iloc[0]\n",
        "    print(central_df.to_latex(index=False, column_format=f'{\"p{2cm}\"*len(central_df.columns)}').replace(\"_\", \" \").replace(\"size of \",\"\").replace(\"number of \",\"\\\\#\").replace(\"infectPopularPub\",\"popular\").replace(\"infectNearestPub\",\"nearest\").replace(\"0000\",\"\"))\n",
        "    print(f\"\\\\end{{table*}}\")\n",
        "\n"
      ]
    },
    {
      "cell_type": "code",
      "execution_count": 8,
      "metadata": {},
      "outputs": [],
      "source": [
        "columns_common=['injection_method','map_name', 'outlier_type', 'total_outliers']\n",
        "\n",
        "columns_number = ['number_of_trajectories_train', 'number_of_trajectories_test', 'number_of_staypoints_train', 'number_of_staypoints_test', 'number_of_social_links_train', 'number_of_social_links_test']\n",
        "\n",
        "columns_size = ['size_of_trajectories_train', 'size_of_trajectories_test', 'size_of_staypoints_train', 'size_of_staypoints_test', 'size_of_social_links_train', 'size_of_social_links_test']\n",
        "\n",
        "columns_infectious =[ 'infection_rate', 'agents_exposed', 'agents_infected', 'agents_recovered',]\n"
      ]
    },
    {
      "cell_type": "code",
      "execution_count": 7,
      "metadata": {},
      "outputs": [],
      "source": [
        "def get_temp_df(table, filter_map= 'atlanta',drop_column=['total_outliers','map_name'], select_column=None):\n",
        "    temp_df = get_table_df(table)\n",
        "    temp_df = temp_df[temp_df['map_name'] == filter_map]\n",
        "    if select_column:\n",
        "        temp_df = temp_df[select_column]\n",
        "    temp_df.drop(columns=drop_column, inplace=True, errors='ignore')\n",
        "    return temp_df\n"
      ]
    },
    {
      "cell_type": "code",
      "execution_count": 9,
      "metadata": {},
      "outputs": [],
      "source": [
        "temp_table_df1 = get_temp_df(table, filter_map='atlanta', drop_column=['total_outliers','map_name'])\n",
        "temp_table_df2 = get_temp_df(table, filter_map='atlanta', drop_column=['total_outliers','map_name'])\n",
        "temp_table_df3 = get_temp_df(table, filter_map='atlanta', drop_column=['map_name'])\n",
        "temp_table_df4 = get_temp_df(table, filter_map='atlanta', drop_column=['map_name'])\n",
        "temp_table_df5 = get_temp_df(table, filter_map='atlanta', drop_column=['map_name'])\n",
        "temp_table_df6 = get_temp_df(table, filter_map='atlanta', drop_column=['map_name'])\n",
        "temp_table_df7 = get_temp_df(table, filter_map='atlanta', drop_column=['map_name'])\n",
        "temp_table_df8 = get_temp_df(table, filter_map='atlanta', drop_column=['map_name'])"
      ]
    },
    {
      "cell_type": "code",
      "execution_count": 10,
      "metadata": {},
      "outputs": [],
      "source": [
        "# print_latex_table(temp_table_df1, filter='central manipulation', text_caption='atlanta number', columns=['outlier_type']+columns_number)\n",
        "# print_latex_table(temp_table_df2, filter='central manipulation', text_caption='atlanta size', columns=['outlier_type']+columns_size)\n",
        "# print_latex_table(temp_table_df3, 'infectious disease spread', columns=['outlier_type'] + columns_number, text_caption='atlanta number')\n",
        "# print_latex_table(temp_table_df4, 'infectious disease spread', columns=['outlier_type'] + columns_size, text_caption='atlanta size')\n",
        "# print_latex_table(temp_table_df5, 'infectious disease spread', columns=['outlier_type'] + columns_infectious, text_caption='atlanta infectious')\n",
        "# print_latex_table(temp_table_df6, 'location-based infection', columns=['pub_type','outlier_type'] + columns_number, text_caption='atlanta number')\n",
        "# print_latex_table(temp_table_df7, 'location-based infection', columns=['pub_type','outlier_type'] + columns_size, text_caption='atlanta size')\n",
        "# print_latex_table(temp_table_df8, 'location-based infection', columns=['pub_type','outlier_type'] + columns_infectious, text_caption='atlanta infectious')"
      ]
    },
    {
      "cell_type": "code",
      "execution_count": 11,
      "metadata": {},
      "outputs": [],
      "source": [
        "def print_latex(df):\n",
        "    # return\n",
        "    print(df.to_latex(index=False, column_format=f'{\"p{2cm}\"*len(df.columns)}').replace(\"_\", \" \").replace(\"size of \",\"\").replace(\"number of \",\"\\\\#\").replace(\"infectPopularPub\",\"popular\").replace(\"infectNearestPub\",\"nearest\").replace(\"0000\",\"\"))"
      ]
    },
    {
      "cell_type": "code",
      "execution_count": 12,
      "metadata": {},
      "outputs": [
        {
          "name": "stdout",
          "output_type": "stream",
          "text": [
            "\\begin{tabular}{p{2cm}p{2cm}p{2cm}p{2cm}p{2cm}p{2cm}p{2cm}}\n",
            "\\toprule\n",
            "injection method & \\#trajectories train & \\#trajectories test & \\#staypoints train & \\#staypoints test & \\#social links train & \\#social links test \\\\\n",
            "\\midrule\n",
            "central manipulation & 8M & 8M & 158K & 152K & 562K & 745K \\\\\n",
            "infectious disease spread & 8M & 24M & 158K & 453K & 562K & 2M \\\\\n",
            "location-based infection & 8M & 24M & 158K & 447K & 562K & 2M \\\\\n",
            "\\bottomrule\n",
            "\\end{tabular}\n",
            "\n"
          ]
        }
      ],
      "source": [
        "\n",
        "\n",
        "numbers_df = get_temp_df(table,select_column=['injection_method','number_of_trajectories_train','number_of_trajectories_test','number_of_staypoints_train','number_of_staypoints_test','number_of_social_links_train','number_of_social_links_test'])\n",
        "numbers_df.drop_duplicates(subset=['injection_method'], inplace=True)\n",
        "numbers_df.reset_index(drop=True, inplace=True)\n",
        "numbers_df\n",
        "print_latex(numbers_df)\n"
      ]
    },
    {
      "cell_type": "code",
      "execution_count": 14,
      "metadata": {},
      "outputs": [
        {
          "name": "stdout",
          "output_type": "stream",
          "text": [
            "\\begin{tabular}{p{2cm}p{2cm}p{2cm}p{2cm}p{2cm}p{2cm}p{2cm}}\n",
            "\\toprule\n",
            "injection method & trajectories train & trajectories test & staypoints train & staypoints test & social links train & social links test \\\\\n",
            "\\midrule\n",
            "central manipulation & 514MB & 515MB & 11MB & 11MB & 15MB & 21MB \\\\\n",
            "infectious disease spread & 514MB & 1GB & 11MB & 33MB & 15MB & 64MB \\\\\n",
            "location-based infection & 514MB & 1GB & 11MB & 32MB & 15MB & 63MB \\\\\n",
            "\\bottomrule\n",
            "\\end{tabular}\n",
            "\n"
          ]
        }
      ],
      "source": [
        "\n",
        "\n",
        "numbers_df = get_temp_df(table,select_column=['injection_method','size_of_trajectories_train','size_of_trajectories_test','size_of_staypoints_train','size_of_staypoints_test','size_of_social_links_train','size_of_social_links_test'])\n",
        "numbers_df.drop_duplicates(subset=['injection_method'],inplace=True)\n",
        "numbers_df.reset_index(drop=True, inplace=True)\n",
        "numbers_df\n",
        "print_latex(numbers_df)\n"
      ]
    },
    {
      "cell_type": "code",
      "execution_count": 13,
      "metadata": {},
      "outputs": [
        {
          "name": "stdout",
          "output_type": "stream",
          "text": [
            "\\begin{tabular}{p{2cm}p{2cm}p{2cm}p{2cm}p{2cm}}\n",
            "\\toprule\n",
            "infection rate & outlier type & agents exposed & agents infected & agents recovered \\\\\n",
            "\\midrule\n",
            "0.01 & combined & 7 & 45 & 45 \\\\\n",
            "0.01 & hunger & 1 & 11 & 11 \\\\\n",
            "0.01 & interest & 1 & 11 & 11 \\\\\n",
            "0.01 & social & 0 & 10 & 10 \\\\\n",
            "0.01 & work & 1 & 11 & 11 \\\\\n",
            "0.05 & combined & 39 & 77 & 77 \\\\\n",
            "0.05 & hunger & 22 & 32 & 32 \\\\\n",
            "0.05 & interest & 24 & 34 & 34 \\\\\n",
            "0.05 & social & 27 & 37 & 37 \\\\\n",
            "0.05 & work & 24 & 34 & 34 \\\\\n",
            "0.10 & combined & 699 & 737 & 736 \\\\\n",
            "0.10 & hunger & 438 & 420 & 331 \\\\\n",
            "0.10 & interest & 686 & 692 & 682 \\\\\n",
            "0.10 & social & 666 & 672 & 651 \\\\\n",
            "0.10 & work & 735 & 744 & 732 \\\\\n",
            "0.50 & combined & 937 & 975 & 975 \\\\\n",
            "0.50 & hunger & 968 & 978 & 978 \\\\\n",
            "0.50 & interest & 953 & 963 & 963 \\\\\n",
            "0.50 & social & 963 & 973 & 973 \\\\\n",
            "0.50 & work & 962 & 972 & 972 \\\\\n",
            "1.00 & combined & 939 & 977 & 977 \\\\\n",
            "1.00 & hunger & 971 & 981 & 981 \\\\\n",
            "1.00 & interest & 972 & 982 & 982 \\\\\n",
            "1.00 & social & 973 & 983 & 983 \\\\\n",
            "1.00 & work & 966 & 976 & 976 \\\\\n",
            "\\bottomrule\n",
            "\\end{tabular}\n",
            "\n"
          ]
        }
      ],
      "source": [
        "infectious_df = get_temp_df(table, select_column=['injection_method','infection_rate','outlier_type','agents_exposed','agents_infected','agents_recovered'])\n",
        "infectious_df = infectious_df[infectious_df['injection_method']=='infectious disease spread']\n",
        "# sort by infection_rate\n",
        "infectious_df.sort_values(by=['infection_rate','outlier_type'], ascending=True, inplace=True)\n",
        "infectious_df.drop(columns=['injection_method'], inplace=True)\n",
        "infectious_df.reset_index(drop=True, inplace=True)\n",
        "infectious_df\n",
        "print_latex(infectious_df)"
      ]
    },
    {
      "cell_type": "code",
      "execution_count": 15,
      "metadata": {},
      "outputs": [
        {
          "name": "stdout",
          "output_type": "stream",
          "text": [
            "\\begin{tabular}{p{2cm}p{2cm}p{2cm}p{2cm}p{2cm}p{2cm}}\n",
            "\\toprule\n",
            "infection rate & pub type & outlier type & agents exposed & agents infected & agents recovered \\\\\n",
            "\\midrule\n",
            "0.01 & nearest & combined & 14 & 13 & 11 \\\\\n",
            "0.01 & nearest & hunger & 7 & 6 & 6 \\\\\n",
            "0.01 & nearest & interest & 3 & 3 & 3 \\\\\n",
            "0.01 & nearest & social & 4 & 3 & 3 \\\\\n",
            "0.01 & nearest & work & 7 & 6 & 6 \\\\\n",
            "0.01 & popular & combined & 6 & 6 & 6 \\\\\n",
            "0.01 & popular & hunger & 6 & 6 & 6 \\\\\n",
            "0.01 & popular & interest & 6 & 6 & 5 \\\\\n",
            "0.01 & popular & social & 6 & 6 & 5 \\\\\n",
            "0.01 & popular & work & 6 & 6 & 5 \\\\\n",
            "0.05 & nearest & combined & 45 & 41 & 36 \\\\\n",
            "0.05 & nearest & hunger & 27 & 26 & 26 \\\\\n",
            "0.05 & nearest & interest & 20 & 18 & 17 \\\\\n",
            "0.05 & nearest & social & 23 & 21 & 20 \\\\\n",
            "0.05 & nearest & work & 24 & 24 & 24 \\\\\n",
            "0.05 & popular & combined & 23 & 22 & 21 \\\\\n",
            "0.05 & popular & hunger & 23 & 22 & 21 \\\\\n",
            "0.05 & popular & interest & 26 & 26 & 25 \\\\\n",
            "0.05 & popular & social & 25 & 25 & 23 \\\\\n",
            "0.05 & popular & work & 22 & 22 & 21 \\\\\n",
            "0.10 & nearest & combined & 86 & 81 & 79 \\\\\n",
            "0.10 & nearest & hunger & 48 & 47 & 44 \\\\\n",
            "0.10 & nearest & interest & 24 & 22 & 16 \\\\\n",
            "0.10 & nearest & social & 34 & 29 & 27 \\\\\n",
            "0.10 & nearest & work & 51 & 50 & 46 \\\\\n",
            "0.10 & popular & combined & 45 & 44 & 42 \\\\\n",
            "0.10 & popular & hunger & 45 & 44 & 42 \\\\\n",
            "0.10 & popular & interest & 46 & 45 & 40 \\\\\n",
            "0.10 & popular & social & 40 & 39 & 36 \\\\\n",
            "0.10 & popular & work & 47 & 45 & 42 \\\\\n",
            "0.50 & nearest & combined & 324 & 309 & 285 \\\\\n",
            "0.50 & nearest & hunger & 198 & 195 & 179 \\\\\n",
            "0.50 & nearest & interest & 83 & 81 & 68 \\\\\n",
            "0.50 & nearest & social & 94 & 91 & 81 \\\\\n",
            "0.50 & nearest & work & 215 & 208 & 187 \\\\\n",
            "0.50 & popular & combined & 183 & 176 & 157 \\\\\n",
            "0.50 & popular & hunger & 183 & 176 & 157 \\\\\n",
            "0.50 & popular & interest & 174 & 170 & 154 \\\\\n",
            "0.50 & popular & social & 168 & 164 & 154 \\\\\n",
            "0.50 & popular & work & 172 & 168 & 154 \\\\\n",
            "1.00 & nearest & combined & 472 & 463 & 437 \\\\\n",
            "1.00 & nearest & hunger & 287 & 279 & 257 \\\\\n",
            "1.00 & nearest & interest & 123 & 118 & 108 \\\\\n",
            "1.00 & nearest & social & 157 & 149 & 134 \\\\\n",
            "1.00 & nearest & work & 303 & 293 & 267 \\\\\n",
            "1.00 & popular & combined & 269 & 262 & 237 \\\\\n",
            "1.00 & popular & hunger & 269 & 262 & 237 \\\\\n",
            "1.00 & popular & interest & 275 & 268 & 247 \\\\\n",
            "1.00 & popular & social & 272 & 263 & 238 \\\\\n",
            "1.00 & popular & work & 264 & 257 & 236 \\\\\n",
            "\\bottomrule\n",
            "\\end{tabular}\n",
            "\n"
          ]
        }
      ],
      "source": [
        "location_df = get_temp_df(table, select_column=['injection_method','infection_rate','pub_type','outlier_type','agents_exposed','agents_infected','agents_recovered'])\n",
        "location_df = location_df[location_df['injection_method']=='location-based infection']\n",
        "location_df.sort_values(by=['infection_rate','pub_type','outlier_type'], ascending=True, inplace=True)\n",
        "location_df.drop_duplicates(inplace=True)\n",
        "location_df.drop(columns=['injection_method'], inplace=True)\n",
        "location_df.reset_index(drop=True, inplace=True)\n",
        "location_df\n",
        "print_latex(location_df)"
      ]
    }
  ],
  "metadata": {
    "kernelspec": {
      "display_name": "Python 3",
      "language": "python",
      "name": "python3"
    },
    "language_info": {
      "codemirror_mode": {
        "name": "ipython",
        "version": 3
      },
      "file_extension": ".py",
      "mimetype": "text/x-python",
      "name": "python",
      "nbconvert_exporter": "python",
      "pygments_lexer": "ipython3",
      "version": "3.12.5"
    }
  },
  "nbformat": 4,
  "nbformat_minor": 2
}
